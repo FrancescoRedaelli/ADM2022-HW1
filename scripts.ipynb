{
 "cells": [
  {
   "cell_type": "markdown",
   "metadata": {
    "id": "IHOKpx2RvEz9"
   },
   "source": [
    "# Problem 1"
   ]
  },
  {
   "cell_type": "markdown",
   "metadata": {
    "id": "3Sb1C4FuvE0A"
   },
   "source": [
    "## *Introduction*"
   ]
  },
  {
   "cell_type": "markdown",
   "metadata": {
    "id": "_Y2AMPiivE0A"
   },
   "source": [
    "### 1. Say \"Hello, World!\" With Python"
   ]
  },
  {
   "cell_type": "code",
   "execution_count": null,
   "metadata": {
    "id": "DmAmAUlevE0B"
   },
   "outputs": [],
   "source": [
    "print(\"Hello, World!\")"
   ]
  },
  {
   "cell_type": "markdown",
   "metadata": {
    "id": "3UBltaI0vE0C"
   },
   "source": [
    "### 2. Python If-Else"
   ]
  },
  {
   "cell_type": "code",
   "execution_count": null,
   "metadata": {
    "id": "jL0gEIAvvE0D"
   },
   "outputs": [],
   "source": [
    "n = int(input())\n",
    "\n",
    "if n%2==1: print(\"Weird\")\n",
    "elif n<=5: print(\"Not Weird\")\n",
    "elif n<=20: print(\"Weird\")\n",
    "else: print(\"Not Weird\")"
   ]
  },
  {
   "cell_type": "markdown",
   "metadata": {
    "id": "6ENTAZ-PvE0D"
   },
   "source": [
    "### 3. Arithmetic Operators"
   ]
  },
  {
   "cell_type": "code",
   "execution_count": null,
   "metadata": {
    "id": "tXbzpbqBvE0E"
   },
   "outputs": [],
   "source": [
    "a = int(input())\n",
    "b = int(input())\n",
    "\n",
    "print(a+b, a-b, a*b, sep=\"\\n\")"
   ]
  },
  {
   "cell_type": "markdown",
   "metadata": {
    "id": "TUvLhp0zvE0E"
   },
   "source": [
    "### 4. Python: Division"
   ]
  },
  {
   "cell_type": "code",
   "execution_count": null,
   "metadata": {
    "id": "DgMKMKJavE0E"
   },
   "outputs": [],
   "source": [
    "a = int(input())\n",
    "b = int(input())\n",
    "\n",
    "print(a//b, a/b, sep=\"\\n\")"
   ]
  },
  {
   "cell_type": "markdown",
   "metadata": {
    "id": "qPQRgl_bvE0F"
   },
   "source": [
    "### 5. Loops"
   ]
  },
  {
   "cell_type": "code",
   "execution_count": null,
   "metadata": {
    "id": "MMQar5e0vE0F"
   },
   "outputs": [],
   "source": [
    "n = int(input())\n",
    "\n",
    "for i in range(n):\n",
    "    print(i*i)"
   ]
  },
  {
   "cell_type": "markdown",
   "metadata": {
    "id": "AdEttLogvE0F"
   },
   "source": [
    "### 6. Write a function"
   ]
  },
  {
   "cell_type": "code",
   "execution_count": null,
   "metadata": {
    "id": "NdWoCT-7vE0G"
   },
   "outputs": [],
   "source": [
    "def is_leap(year):\n",
    "    leap = False\n",
    "    if year%400==0 or (year%4==0 and year%100!=0): leap = True\n",
    "    return leap\n",
    "\n",
    "year = int(input())\n",
    "print(is_leap(year))"
   ]
  },
  {
   "cell_type": "markdown",
   "metadata": {
    "id": "D2CI1cctvE0G"
   },
   "source": [
    "### 7. Print Function"
   ]
  },
  {
   "cell_type": "code",
   "execution_count": null,
   "metadata": {
    "id": "UvOs642yvE0G"
   },
   "outputs": [],
   "source": [
    "n = int(input())\n",
    "\n",
    "for i in range(1, n+1):\n",
    "    print(i, end=\"\")"
   ]
  },
  {
   "cell_type": "markdown",
   "metadata": {
    "id": "ffDsphsavE0H"
   },
   "source": [
    "## *Data types*"
   ]
  },
  {
   "cell_type": "markdown",
   "metadata": {
    "id": "GAetaWP4vE0H"
   },
   "source": [
    "### 1. List Comprehensions"
   ]
  },
  {
   "cell_type": "code",
   "execution_count": null,
   "metadata": {
    "id": "eu5J-LnTvE0H"
   },
   "outputs": [],
   "source": [
    "x = int(input())\n",
    "y = int(input())\n",
    "z = int(input())\n",
    "n = int(input())\n",
    "\n",
    "print([[i,j,k] for i in range(x+1) for j in range(y+1) for k in range(z+1) if i+j+k!=n])"
   ]
  },
  {
   "cell_type": "markdown",
   "metadata": {
    "id": "aQbvu6nMvE0I"
   },
   "source": [
    "### 2. Find the Runner-Up Score!"
   ]
  },
  {
   "cell_type": "code",
   "execution_count": null,
   "metadata": {
    "id": "mbUDOYJjvE0I"
   },
   "outputs": [],
   "source": [
    "n = int(input())\n",
    "arr = list(map(int, input().split()))\n",
    "\n",
    "print(max([x for x in arr if x!=max(arr)]))"
   ]
  },
  {
   "cell_type": "markdown",
   "metadata": {
    "id": "qcg31zpuvE0J"
   },
   "source": [
    "### 3. Nested Lists"
   ]
  },
  {
   "cell_type": "code",
   "execution_count": null,
   "metadata": {
    "id": "IzcPCPeUvE0J"
   },
   "outputs": [],
   "source": [
    "records = [[input(),float(input())] for i in range(int(input()))]\n",
    "sls = min([x[1] for x in records if x[1]!=min([x[1] for x in records])])\n",
    "for name in sorted([x[0] for x in records if x[1]==sls]): print(name)"
   ]
  },
  {
   "cell_type": "markdown",
   "metadata": {
    "id": "5xc8AZZQvE0K"
   },
   "source": [
    "### 4. Finding the percentage"
   ]
  },
  {
   "cell_type": "code",
   "execution_count": null,
   "metadata": {
    "id": "DGc3wNCXvE0K"
   },
   "outputs": [],
   "source": [
    "n = int(input())\n",
    "student_marks = {}\n",
    "for _ in range(n):\n",
    "    name, *line = input().split()\n",
    "    scores = list(map(float, line))\n",
    "    student_marks[name] = scores\n",
    "query_name = input()\n",
    "\n",
    "print(\"{:.2f}\".format(sum(student_marks[query_name])/len(student_marks[query_name])))"
   ]
  },
  {
   "cell_type": "markdown",
   "metadata": {
    "id": "c1MmzBvRvE0K"
   },
   "source": [
    "### 5. Lists"
   ]
  },
  {
   "cell_type": "code",
   "execution_count": null,
   "metadata": {
    "id": "sEaH3sTEvE0K"
   },
   "outputs": [],
   "source": [
    "N = int(input())\n",
    "mylist = []\n",
    "\n",
    "for i in range(N):\n",
    "    l = input().split()\n",
    "    if l[0]==\"insert\": mylist.insert(int(l[1]), int(l[2]))\n",
    "    if l[0]==\"print\": print(mylist)\n",
    "    if l[0]==\"remove\": mylist.remove(int(l[1]))\n",
    "    if l[0]==\"append\": mylist.append(int(l[1]))\n",
    "    if l[0]==\"sort\": mylist.sort()\n",
    "    if l[0]==\"pop\": mylist.pop()\n",
    "    if l[0]==\"reverse\": mylist.reverse()"
   ]
  },
  {
   "cell_type": "markdown",
   "metadata": {
    "id": "sNADKPgjvE0L"
   },
   "source": [
    "### 6. Tuples"
   ]
  },
  {
   "cell_type": "code",
   "execution_count": null,
   "metadata": {
    "id": "Vx0ld6tTvE0L"
   },
   "outputs": [],
   "source": [
    "n = int(input())\n",
    "t = tuple(map(int, input().split()))\n",
    "    \n",
    "print(hash(t))"
   ]
  },
  {
   "cell_type": "markdown",
   "metadata": {
    "id": "O81xypjSvE0L"
   },
   "source": [
    "## *Strings*"
   ]
  },
  {
   "cell_type": "markdown",
   "metadata": {
    "id": "szqfuP5evE0M"
   },
   "source": [
    "### 1. sWAP cASE"
   ]
  },
  {
   "cell_type": "code",
   "execution_count": null,
   "metadata": {
    "id": "8GY1e1RAvE0M"
   },
   "outputs": [],
   "source": [
    "def swap_case(s):\n",
    "    return s.swapcase()\n",
    "\n",
    "if __name__ == '__main__':\n",
    "    s = input()\n",
    "    result = swap_case(s)\n",
    "    print(result)"
   ]
  },
  {
   "cell_type": "markdown",
   "metadata": {
    "id": "qIcWv-bnvE0M"
   },
   "source": [
    "### 2. String Split and Join"
   ]
  },
  {
   "cell_type": "code",
   "execution_count": null,
   "metadata": {
    "id": "_MrqyqwFvE0M"
   },
   "outputs": [],
   "source": [
    "def split_and_join(line):\n",
    "    return \"-\".join(line.split(\" \"))\n",
    "    \n",
    "if __name__ == '__main__':\n",
    "    line = input()\n",
    "    result = split_and_join(line)\n",
    "    print(result)"
   ]
  },
  {
   "cell_type": "markdown",
   "metadata": {
    "id": "aovTnCC9vE0M"
   },
   "source": [
    "### 3. What's Your Name?"
   ]
  },
  {
   "cell_type": "code",
   "execution_count": null,
   "metadata": {
    "id": "8_4MmzXsvE0N"
   },
   "outputs": [],
   "source": [
    "def print_full_name(first, last):\n",
    "    print(\"Hello {} {}! You just delved into python.\".format(first,last))\n",
    "\n",
    "if __name__ == '__main__':\n",
    "    first_name = input()\n",
    "    last_name = input()\n",
    "    print_full_name(first_name, last_name)"
   ]
  },
  {
   "cell_type": "markdown",
   "metadata": {
    "id": "QboZEKXevE0N"
   },
   "source": [
    "### 4. Mutations"
   ]
  },
  {
   "cell_type": "code",
   "execution_count": null,
   "metadata": {
    "id": "YM3v1NhxvE0N"
   },
   "outputs": [],
   "source": [
    "def mutate_string(string, position, character):\n",
    "    return string[:position]+character+string[position+1:]\n",
    "\n",
    "if __name__ == '__main__':\n",
    "    s = input()\n",
    "    i, c = input().split()\n",
    "    s_new = mutate_string(s, int(i), c)\n",
    "    print(s_new)"
   ]
  },
  {
   "cell_type": "markdown",
   "metadata": {
    "id": "JduyrMfsvE0O"
   },
   "source": [
    "### 5. Find a string"
   ]
  },
  {
   "cell_type": "code",
   "execution_count": null,
   "metadata": {
    "id": "tqEFMaM9vE0O"
   },
   "outputs": [],
   "source": [
    "def count_substring(string, sub_string):\n",
    "    count = 0\n",
    "    for i in range(len(string)-len(sub_string)+1):\n",
    "        if string[i:i+len(sub_string)]==sub_string: count+=1\n",
    "    return count\n",
    "\n",
    "if __name__ == '__main__':\n",
    "    string = input().strip()\n",
    "    sub_string = input().strip()\n",
    "    \n",
    "    count = count_substring(string, sub_string)\n",
    "    print(count)"
   ]
  },
  {
   "cell_type": "markdown",
   "metadata": {
    "id": "jAuRDPpvvE0O"
   },
   "source": [
    "### 6. String Validators"
   ]
  },
  {
   "cell_type": "code",
   "execution_count": null,
   "metadata": {
    "id": "Fr_VDPo9vE0P"
   },
   "outputs": [],
   "source": [
    "s = input()\n",
    "\n",
    "an = ab = dg = lc = uc = False\n",
    "for i in s:\n",
    "    if i.isalnum(): an = True\n",
    "    if i.isalpha(): ab = True\n",
    "    if i.isdigit(): dg = True\n",
    "    if i.islower(): lc = True\n",
    "    if i.isupper(): uc = True\n",
    "print(an, ab, dg, lc, uc, sep = \"\\n\")"
   ]
  },
  {
   "cell_type": "markdown",
   "metadata": {
    "id": "iHFF30LOvE0P"
   },
   "source": [
    "### 7. Text Alignment"
   ]
  },
  {
   "cell_type": "code",
   "execution_count": null,
   "metadata": {
    "id": "9dViNxVTvE0Q"
   },
   "outputs": [],
   "source": [
    "thickness = int(input()) #This must be an odd number\n",
    "c = 'H'\n",
    "\n",
    "#Top Cone\n",
    "for i in range(thickness):\n",
    "    print((c*i).rjust(thickness-1)+c+(c*i).ljust(thickness-1))\n",
    "\n",
    "#Top Pillars\n",
    "for i in range(thickness+1):\n",
    "    print((c*thickness).center(thickness*2)+(c*thickness).center(thickness*6))\n",
    "\n",
    "#Middle Belt\n",
    "for i in range((thickness+1)//2):\n",
    "    print((c*thickness*5).center(thickness*6))    \n",
    "\n",
    "#Bottom Pillars\n",
    "for i in range(thickness+1):\n",
    "    print((c*thickness).center(thickness*2)+(c*thickness).center(thickness*6))    \n",
    "\n",
    "#Bottom Cone\n",
    "for i in range(thickness):\n",
    "    print(((c*(thickness-i-1)).rjust(thickness)+c+(c*(thickness-i-1)).ljust(thickness)).rjust(thickness*6))"
   ]
  },
  {
   "cell_type": "markdown",
   "metadata": {
    "id": "76-yTCjyvE0Q"
   },
   "source": [
    "### 8. Text Wrap"
   ]
  },
  {
   "cell_type": "code",
   "execution_count": null,
   "metadata": {
    "id": "HVg6K0IcvE0Q"
   },
   "outputs": [],
   "source": [
    "import textwrap\n",
    "\n",
    "def wrap(string, max_width):\n",
    "    return textwrap.fill(string,max_width)\n",
    "\n",
    "if __name__ == '__main__':\n",
    "    string, max_width = input(), int(input())\n",
    "    result = wrap(string, max_width)\n",
    "    print(result)"
   ]
  },
  {
   "cell_type": "markdown",
   "metadata": {
    "id": "cGzr-T2mvE0R"
   },
   "source": [
    "### 9. Designer Door Mat"
   ]
  },
  {
   "cell_type": "code",
   "execution_count": null,
   "metadata": {
    "id": "WRCq0DmAvE0R"
   },
   "outputs": [],
   "source": [
    "n, m = map(int, input().split())\n",
    "\n",
    "for i in range(n//2): print((\".|.\"*(i*2+1)).center(m,\"-\"))\n",
    "print((\"WELCOME\").center(m,\"-\"))\n",
    "for i in range((n//2)-1,-1,-1): print((\".|.\"*(i*2+1)).center(m,\"-\"))"
   ]
  },
  {
   "cell_type": "markdown",
   "metadata": {
    "id": "pkJmgaTyvE0R"
   },
   "source": [
    "### 10. String Formatting"
   ]
  },
  {
   "cell_type": "code",
   "execution_count": null,
   "metadata": {
    "id": "AfHYz6-SvE0S"
   },
   "outputs": [],
   "source": [
    "def print_formatted(number):\n",
    "    p = len(str(bin(number))[2:])+1\n",
    "    print(\"\\n\".join([str(str(x).rjust(p-1) + str(oct(x)[2:]).rjust(p) + str(hex(x)[2:].upper()).rjust(p) + str(bin(x)[2:]).rjust(p)) for x in range(1,number+1)]))\n",
    "\n",
    "if __name__ == '__main__':\n",
    "    n = int(input())\n",
    "    print_formatted(n)"
   ]
  },
  {
   "cell_type": "markdown",
   "metadata": {
    "id": "JEz9tR_xvE0S"
   },
   "source": [
    "### 11. Alphabet Rangoli"
   ]
  },
  {
   "cell_type": "code",
   "execution_count": null,
   "metadata": {
    "id": "8zj0UvYqvE0S"
   },
   "outputs": [],
   "source": [
    "import string\n",
    "alph = string.ascii_lowercase\n",
    "\n",
    "def print_rangoli(size):\n",
    "    l = (size-1)*4+1\n",
    "    for i in range(size): print((\"\".join([\"{}-\".format(alph[x]) for x in range(size-1, size-1-i, -1)])).rjust(l//2,\"-\")+alph[size-1-i]+(\"\".join([\"-{}\".format(alph[x]) for x in range(size-i,size)])).ljust(l//2,\"-\"))\n",
    "    for i in range(size-2,-1,-1): print((\"\".join([\"{}-\".format(alph[x]) for x in range(size-1, size-1-i, -1)])).rjust(l//2,\"-\")+alph[size-1-i]+(\"\".join([\"-{}\".format(alph[x]) for x in range(size-i,size)])).ljust(l//2,\"-\"))\n",
    "        \n",
    "if __name__ == '__main__':\n",
    "    n = int(input())\n",
    "    print_rangoli(n)"
   ]
  },
  {
   "cell_type": "markdown",
   "metadata": {
    "id": "Fr0V6uyivE0T"
   },
   "source": [
    "### 12. Capitalize!"
   ]
  },
  {
   "cell_type": "code",
   "execution_count": null,
   "metadata": {
    "id": "Q7mol93cvE0T"
   },
   "outputs": [],
   "source": [
    "def solve(s):\n",
    "    return \" \".join(x[:1].upper() + x[1:] for x in s.split(\" \"))\n",
    "    \n",
    "if __name__ == '__main__':\n",
    "    fptr = open(os.environ['OUTPUT_PATH'], 'w')\n",
    "    s = input()\n",
    "    result = solve(s)\n",
    "    fptr.write(result + '\\n')\n",
    "    fptr.close()"
   ]
  },
  {
   "cell_type": "markdown",
   "metadata": {
    "id": "Blqpa6SvvE0U"
   },
   "source": [
    "### 13. The Minion Game"
   ]
  },
  {
   "cell_type": "code",
   "execution_count": null,
   "metadata": {
    "id": "dEj1MEdwvE0U"
   },
   "outputs": [],
   "source": [
    "def minion_game(string):\n",
    "    S = K = 0\n",
    "    vowels = [\"A\", \"E\", \"I\", \"O\", \"U\"]\n",
    "    for i in range(len(string)):\n",
    "        if string[i] in vowels: K+=len(string)-i\n",
    "        else: S+=len(string)-i\n",
    "    if S>K: print(\"Stuart\",S)\n",
    "    elif K>S: print(\"Kevin\",K)\n",
    "    else: print(\"Draw\")\n",
    "\n",
    "if __name__ == '__main__':\n",
    "    s = input()\n",
    "    minion_game(s)"
   ]
  },
  {
   "cell_type": "markdown",
   "metadata": {
    "id": "tR5eICmhvE0U"
   },
   "source": [
    "### 14. Merge the Tools!"
   ]
  },
  {
   "cell_type": "code",
   "execution_count": null,
   "metadata": {
    "id": "JwGJNvljvE0U"
   },
   "outputs": [],
   "source": [
    "def merge_the_tools(string, k):  \n",
    "    for i in range(0, len(string), k):\n",
    "        w = string[i:i+k]\n",
    "        print(\"\".join(x for x in dict.fromkeys(w)))   \n",
    "\n",
    "if __name__ == '__main__':\n",
    "    string, k = input(), int(input())\n",
    "    merge_the_tools(string, k)"
   ]
  },
  {
   "cell_type": "markdown",
   "metadata": {
    "id": "sae1a8tbvE0V"
   },
   "source": [
    "## *Sets*"
   ]
  },
  {
   "cell_type": "markdown",
   "metadata": {
    "id": "Bi5l1s9ZvE0V"
   },
   "source": [
    "### 1. Introduction to Sets"
   ]
  },
  {
   "cell_type": "code",
   "execution_count": null,
   "metadata": {
    "id": "-lQoXjyKvE0V"
   },
   "outputs": [],
   "source": [
    "def average(array):\n",
    "    return sum(set(array))/len(set(array))\n",
    "\n",
    "if __name__ == '__main__':\n",
    "    n = int(input())\n",
    "    arr = list(map(int, input().split()))\n",
    "    result = average(arr)\n",
    "    print(result)"
   ]
  },
  {
   "cell_type": "markdown",
   "metadata": {
    "id": "RsoCuyqZvE0V"
   },
   "source": [
    "### 2. Symmetric Difference"
   ]
  },
  {
   "cell_type": "code",
   "execution_count": null,
   "metadata": {
    "id": "e-q4_8cavE0V"
   },
   "outputs": [],
   "source": [
    "m = int(input())\n",
    "M = set(map(int, input().split()))\n",
    "n = int(input())\n",
    "N = set(map(int, input().split()))\n",
    "\n",
    "for el in sorted([x for x in M.union(N) if x not in M.intersection(N)]): print(el)"
   ]
  },
  {
   "cell_type": "markdown",
   "metadata": {
    "id": "JT17RVfGvE0W"
   },
   "source": [
    "### 3. Set .add()"
   ]
  },
  {
   "cell_type": "code",
   "execution_count": null,
   "metadata": {
    "id": "1vEAwJ1vvE0W"
   },
   "outputs": [],
   "source": [
    "# List Comprehension solution\n",
    "print(len(set([input() for x in range(int(input()))])))\n",
    "\n",
    "# .add() solution\n",
    "N = int(input())\n",
    "s = set()\n",
    "for i in range(N): s.add(input())\n",
    "print(len(s))"
   ]
  },
  {
   "cell_type": "markdown",
   "metadata": {
    "id": "YQcwkVCmvE0W"
   },
   "source": [
    "### 4. Set .discard(), .remove() & .pop()"
   ]
  },
  {
   "cell_type": "code",
   "execution_count": null,
   "metadata": {
    "id": "UhTXbRoMvE0W"
   },
   "outputs": [],
   "source": [
    "n = int(input())\n",
    "s = set(map(int, input().split()))\n",
    "N = int(input())\n",
    "\n",
    "for i in range(N):\n",
    "    comm = input().split()\n",
    "    if comm[0]==\"remove\": s.remove(int(comm[1]))\n",
    "    elif comm[0]==\"discard\": s.discard(int(comm[1]))\n",
    "    else: s.pop()\n",
    "print(sum(s))"
   ]
  },
  {
   "cell_type": "markdown",
   "metadata": {
    "id": "rEEboQqBvE0W"
   },
   "source": [
    "### 5. Set .union() Operation"
   ]
  },
  {
   "cell_type": "code",
   "execution_count": null,
   "metadata": {
    "id": "68tz2qDCvE0X"
   },
   "outputs": [],
   "source": [
    "n = int(input())\n",
    "E = set(map(int, input().split()))\n",
    "b = int(input())\n",
    "F = set(map(int, input().split()))\n",
    "\n",
    "print(len(E.union(F)))"
   ]
  },
  {
   "cell_type": "markdown",
   "metadata": {
    "id": "Z9BxisM0vE0X"
   },
   "source": [
    "### 6. Set .intersection() Operation"
   ]
  },
  {
   "cell_type": "code",
   "execution_count": null,
   "metadata": {
    "id": "A3RYPdijvE0X"
   },
   "outputs": [],
   "source": [
    "n = int(input())\n",
    "E = set(map(int, input().split()))\n",
    "b = int(input())\n",
    "F = set(map(int, input().split()))\n",
    "\n",
    "print(len(E.intersection(F)))"
   ]
  },
  {
   "cell_type": "markdown",
   "metadata": {
    "id": "6WB8tdNlvE0X"
   },
   "source": [
    "### 7. Set .difference() Operation"
   ]
  },
  {
   "cell_type": "code",
   "execution_count": null,
   "metadata": {
    "id": "X__UOTY3vE0Y"
   },
   "outputs": [],
   "source": [
    "n = int(input())\n",
    "E = set(map(int, input().split()))\n",
    "b = int(input())\n",
    "F = set(map(int, input().split()))\n",
    "\n",
    "print(len(E.difference(F)))"
   ]
  },
  {
   "cell_type": "markdown",
   "metadata": {
    "id": "uxMTg0T-vE0Y"
   },
   "source": [
    "### 8. Set .symmetric_difference() Operation"
   ]
  },
  {
   "cell_type": "code",
   "execution_count": null,
   "metadata": {
    "id": "tRSQMB7NvE0Z"
   },
   "outputs": [],
   "source": [
    "n = int(input())\n",
    "E = set(map(int, input().split()))\n",
    "b = int(input())\n",
    "F = set(map(int, input().split()))\n",
    "\n",
    "print(len(E.symmetric_difference(F)))"
   ]
  },
  {
   "cell_type": "markdown",
   "metadata": {
    "id": "g4LfFS_NvE0Z"
   },
   "source": [
    "### 9. Set Mutations"
   ]
  },
  {
   "cell_type": "code",
   "execution_count": null,
   "metadata": {
    "id": "F2WEHqUNvE0Z"
   },
   "outputs": [],
   "source": [
    "n = int(input())\n",
    "A = set(map(int, input().split()))\n",
    "N = int(input())\n",
    "\n",
    "for i in range(N):\n",
    "    op = input().split()\n",
    "    s = set(map(int, input().split()))\n",
    "    if op[0]==\"update\": A.update(s)\n",
    "    elif op[0]==\"intersection_update\": A.intersection_update(s)\n",
    "    elif op[0]==\"difference_update\": A.difference_update(s)\n",
    "    elif op[0]==\"symmetric_difference_update\": A.symmetric_difference_update(s)\n",
    "print(sum(A))"
   ]
  },
  {
   "cell_type": "markdown",
   "metadata": {
    "id": "bqRMYCTEvE0Z"
   },
   "source": [
    "### 10. The Captain's Room"
   ]
  },
  {
   "cell_type": "code",
   "execution_count": null,
   "metadata": {
    "id": "wqH18mb8vE0Z"
   },
   "outputs": [],
   "source": [
    "K = int(input())\n",
    "l = list(map(int, input().split()))\n",
    "\n",
    "print(int((sum(set(l))*K-sum(l))/(K-1)))"
   ]
  },
  {
   "cell_type": "markdown",
   "metadata": {
    "id": "D_bWO4oBvE0a"
   },
   "source": [
    "### 11. Check Subset"
   ]
  },
  {
   "cell_type": "code",
   "execution_count": null,
   "metadata": {
    "id": "1jIdwnDjvE0a"
   },
   "outputs": [],
   "source": [
    "T = int(input())\n",
    "for t in range(T):\n",
    "    a = int(input())\n",
    "    A = set(map(int, input().split()))\n",
    "    b = int(input())\n",
    "    B = set(map(int, input().split()))\n",
    "    print(A.intersection(B)==A)"
   ]
  },
  {
   "cell_type": "markdown",
   "metadata": {
    "id": "hIYCoAbvvE0a"
   },
   "source": [
    "### 12. Check Strict Superset"
   ]
  },
  {
   "cell_type": "code",
   "execution_count": null,
   "metadata": {
    "id": "iB8KbTVYvE0b"
   },
   "outputs": [],
   "source": [
    "A = set(map(int, input().split()))\n",
    "N = int(input())\n",
    "out = True\n",
    "for n in range(N):\n",
    "    B = set(map(int, input().split()))\n",
    "    S = A.intersection(B)\n",
    "    if not (S==B and S!=A): out = False\n",
    "print(out)"
   ]
  },
  {
   "cell_type": "markdown",
   "metadata": {
    "id": "sgBuKAx-vE0c"
   },
   "source": [
    "### 13. No Idea!"
   ]
  },
  {
   "cell_type": "code",
   "execution_count": null,
   "metadata": {
    "id": "KqlbExANvE0c"
   },
   "outputs": [],
   "source": [
    "n, m = map(int, input().split())\n",
    "N = list(map(int, input().split()))\n",
    "A = set(map(int, input().split()))\n",
    "B = set(map(int, input().split()))\n",
    "\n",
    "print(len([x for x in N if x in A])-len([x for x in N if x in B]))"
   ]
  },
  {
   "cell_type": "markdown",
   "metadata": {
    "id": "ObRLsNHAvE0c"
   },
   "source": [
    "## *Collections*"
   ]
  },
  {
   "cell_type": "markdown",
   "metadata": {
    "id": "PmBly7NEx80X"
   },
   "source": [
    "### 1. collections.Counter()"
   ]
  },
  {
   "cell_type": "code",
   "execution_count": null,
   "metadata": {
    "id": "hloNAZT7vE0d"
   },
   "outputs": [],
   "source": [
    "from collections import Counter\n",
    "\n",
    "X = int(input())\n",
    "l = Counter(list(map(int, input().split())))\n",
    "N = int(input())\n",
    "\n",
    "out = 0\n",
    "for i in range(N):\n",
    "     s, p = map(int, input().split())\n",
    "     if s in l and l[s]>0:\n",
    "        l[s]-=1\n",
    "        out+=p\n",
    "print(out)"
   ]
  },
  {
   "cell_type": "markdown",
   "metadata": {
    "id": "qfxv9TPVz9nd"
   },
   "source": [
    "### 2. DefaultDict Tutorial"
   ]
  },
  {
   "cell_type": "code",
   "execution_count": null,
   "metadata": {
    "id": "OAFVdK2j0Ep0"
   },
   "outputs": [],
   "source": [
    "from collections import defaultdict\n",
    "\n",
    "n, m = map(int, input().split())\n",
    "d = defaultdict(list)\n",
    "for i in range(1,n+1): d[input()].append(str(i))\n",
    "for i in range(m):\n",
    "    w = input()\n",
    "    if len(d[w])>0: print(\" \".join(d[w]))\n",
    "    else: print(-1)"
   ]
  },
  {
   "cell_type": "markdown",
   "metadata": {
    "id": "61TTU5ez4OMB"
   },
   "source": [
    "### 3. Collections.namedtuple()"
   ]
  },
  {
   "cell_type": "code",
   "execution_count": null,
   "metadata": {
    "id": "UQCWdrEx4le0"
   },
   "outputs": [],
   "source": [
    "from collections import namedtuple\n",
    "\n",
    "N = int(input())\n",
    "Stud = namedtuple(\"Stud\",\" \".join(input().strip().split()))\n",
    "print(sum([int(Stud(*input().strip().split()).MARKS) for x in range(N)])/N)"
   ]
  },
  {
   "cell_type": "markdown",
   "metadata": {
    "id": "Hed9LTy1896-"
   },
   "source": [
    "### 4. Collections.OrderedDict()"
   ]
  },
  {
   "cell_type": "code",
   "execution_count": null,
   "metadata": {
    "id": "q6LZg6JE9Ff1"
   },
   "outputs": [],
   "source": [
    "from collections import OrderedDict\n",
    "\n",
    "d = OrderedDict()\n",
    "for el in range(int(input())):\n",
    "    line = input().split()\n",
    "    p = int(line.pop())\n",
    "    item = \" \".join(line)\n",
    "    if item in d: d[item]+=p\n",
    "    else: d[item]=p\n",
    "for el in d: print(el, d[el], sep=\" \")"
   ]
  },
  {
   "cell_type": "markdown",
   "metadata": {
    "id": "wj_LZRSM_LPg"
   },
   "source": [
    "### 5. Word Order"
   ]
  },
  {
   "cell_type": "code",
   "execution_count": null,
   "metadata": {
    "id": "4TH6f1Nl_QAr"
   },
   "outputs": [],
   "source": [
    "from collections import OrderedDict\n",
    "\n",
    "d = OrderedDict()\n",
    "for el in range(int(input())):\n",
    "    w = input()\n",
    "    if w in d: d[w]+=1\n",
    "    else: d[w]=1\n",
    "print(len(d))\n",
    "for el in d: print(d[el], end=\" \")"
   ]
  },
  {
   "cell_type": "markdown",
   "metadata": {
    "id": "SRSucYS5ACe_"
   },
   "source": [
    "### 6. Collections.deque()"
   ]
  },
  {
   "cell_type": "code",
   "execution_count": null,
   "metadata": {
    "id": "oouElD2-AH1S"
   },
   "outputs": [],
   "source": [
    "from collections import deque\n",
    "\n",
    "d = deque()\n",
    "for i in range(int(input())):\n",
    "    op = input().split()\n",
    "    if op[0]==\"append\": d.append(op[1])\n",
    "    elif op[0]==\"pop\": d.pop()\n",
    "    elif op[0]==\"popleft\": d.popleft()\n",
    "    elif op[0]==\"appendleft\": d.appendleft(op[1])\n",
    "for el in d: print(el, end=\" \")"
   ]
  },
  {
   "cell_type": "markdown",
   "metadata": {
    "id": "F7BJbY8rBl1x"
   },
   "source": [
    "### 7. Piling Up!"
   ]
  },
  {
   "cell_type": "code",
   "execution_count": null,
   "metadata": {
    "id": "pHYfYUMKBq4S"
   },
   "outputs": [],
   "source": [
    "from collections import deque\n",
    "\n",
    "T = int(input())\n",
    "for t in range(T):\n",
    "    n = int(input())\n",
    "    d = deque(map(int, input().split()))\n",
    "    curr = 2**31\n",
    "    c = \"Yes\"\n",
    "    for i in range(n):\n",
    "        if d[0]<=curr and d[-1]<=curr:\n",
    "            if d[0]>d[-1]: curr = d.popleft()\n",
    "            else: curr = d.pop()\n",
    "        else:\n",
    "            c = \"No\"\n",
    "            break\n",
    "    print(c)"
   ]
  },
  {
   "cell_type": "markdown",
   "metadata": {
    "id": "QPJYdVzsIWEf"
   },
   "source": [
    "### 8. Company Logo"
   ]
  },
  {
   "cell_type": "code",
   "execution_count": null,
   "metadata": {
    "id": "0obc2MZDIatl"
   },
   "outputs": [],
   "source": [
    "from collections import Counter\n",
    "\n",
    "for el in sorted(Counter(list(input())).items(), key=lambda x:(-x[1], x[0]))[:3]: print(el[0], el[1], sep=\" \")"
   ]
  },
  {
   "cell_type": "markdown",
   "metadata": {
    "id": "eMD3ZrXDMXdl"
   },
   "source": [
    "## *Date and Time*"
   ]
  },
  {
   "cell_type": "markdown",
   "metadata": {
    "id": "4ZA-GWq-MaWF"
   },
   "source": [
    "### 1. Calendar Module"
   ]
  },
  {
   "cell_type": "code",
   "execution_count": null,
   "metadata": {
    "id": "8xvkL8KlMe4s"
   },
   "outputs": [],
   "source": [
    "import calendar; from collections import deque\n",
    "d = deque(list(map(int, input().split())))\n",
    "d.rotate()\n",
    "print(calendar.day_name[calendar.weekday(*d)].upper())"
   ]
  },
  {
   "cell_type": "markdown",
   "metadata": {
    "id": "LB4zzaI2bhB4"
   },
   "source": [
    "### 2. Time Delta"
   ]
  },
  {
   "cell_type": "code",
   "execution_count": null,
   "metadata": {
    "id": "7OxMcLRHbdpP"
   },
   "outputs": [],
   "source": [
    "from datetime import datetime as dt; import os\n",
    "\n",
    "def time_delta(t1, t2):\n",
    "    t1 = dt.strptime(t1,'%a %d %b %Y %H:%M:%S %z')\n",
    "    t2 = dt.strptime(t2,'%a %d %b %Y %H:%M:%S %z')\n",
    "  \n",
    "    return str(round(abs((t1-t2).total_seconds())))\n",
    "\n",
    "if __name__ == '__main__':\n",
    "    fptr = open(os.environ['OUTPUT_PATH'], 'w')\n",
    "\n",
    "    t = int(input())\n",
    "\n",
    "    for t_itr in range(t):\n",
    "        t1 = input()\n",
    "\n",
    "        t2 = input()\n",
    "\n",
    "        delta = time_delta(t1, t2)\n",
    "\n",
    "        fptr.write(delta + '\\n')\n",
    "\n",
    "    fptr.close()"
   ]
  },
  {
   "cell_type": "markdown",
   "metadata": {
    "id": "3SKMst7CA1lZ"
   },
   "source": [
    "## *Exceptions*"
   ]
  },
  {
   "cell_type": "markdown",
   "metadata": {
    "id": "r232V136A1la"
   },
   "source": [
    "### 1. Exceptions"
   ]
  },
  {
   "cell_type": "code",
   "execution_count": null,
   "metadata": {
    "id": "IcgEfXnUA1la"
   },
   "outputs": [],
   "source": [
    "T = int(input())\n",
    "for t in range(T):\n",
    "    a,b = input().split()\n",
    "    try:\n",
    "        print(int(a)//int(b))\n",
    "    except ZeroDivisionError as e:\n",
    "        print(\"Error Code:\", e, sep=\" \")\n",
    "    except ValueError as e:\n",
    "        print(\"Error Code:\", e, sep=\" \")"
   ]
  },
  {
   "cell_type": "markdown",
   "metadata": {
    "id": "PnAAF-dyA1la"
   },
   "source": [
    "## *Built-ins*"
   ]
  },
  {
   "cell_type": "markdown",
   "metadata": {
    "id": "By5AXzG0A1la"
   },
   "source": [
    "### 1. Zipped!"
   ]
  },
  {
   "cell_type": "code",
   "execution_count": null,
   "metadata": {
    "id": "rKe7RrI1A1la"
   },
   "outputs": [],
   "source": [
    "N, X = map(int, input().split())\n",
    "for el in zip(*[list(map(float, input().split())) for x in range(X)]): print(round(sum(el)/len(el),1))"
   ]
  },
  {
   "cell_type": "markdown",
   "metadata": {
    "id": "GOrBKTRbA1la"
   },
   "source": [
    "### 2. Athlete Sort"
   ]
  },
  {
   "cell_type": "code",
   "execution_count": null,
   "metadata": {
    "id": "vaU5-nXPA1la"
   },
   "outputs": [],
   "source": [
    "nm = input().split()\n",
    "n = int(nm[0])\n",
    "m = int(nm[1])\n",
    "arr = []\n",
    "for _ in range(n): arr.append(list(map(int, input().rstrip().split()))+[_])\n",
    "k = int(input())\n",
    "\n",
    "for el in sorted(arr, key=lambda x:(x[k], x[m])): print(\" \".join(map(str,el))[:-2])"
   ]
  },
  {
   "cell_type": "markdown",
   "metadata": {
    "id": "jr2sek7FA1lb"
   },
   "source": [
    "### 3. ginortS"
   ]
  },
  {
   "cell_type": "code",
   "execution_count": null,
   "metadata": {
    "id": "dXX326sUA1lb"
   },
   "outputs": [],
   "source": [
    "S = input()\n",
    "for el in sorted([x for x in S if x.isalpha() and x.islower()])+sorted([x for x in S if x.isalpha() and x.isupper()])+sorted([x for x in S if x.isdigit() and int(x)%2!=0])+sorted([x for x in S if x.isdigit() and int(x)%2==0]): print(el, end=\"\")"
   ]
  },
  {
   "cell_type": "markdown",
   "metadata": {
    "id": "v2-psRBEA1lb"
   },
   "source": [
    "## *Python Functionals*"
   ]
  },
  {
   "cell_type": "markdown",
   "metadata": {
    "id": "do-J4okSA1lb"
   },
   "source": [
    "### 1. Map and Lambda Function"
   ]
  },
  {
   "cell_type": "code",
   "execution_count": null,
   "metadata": {
    "id": "yMsjStYSA1lb"
   },
   "outputs": [],
   "source": [
    "cube = lambda x: x**3\n",
    "\n",
    "def fibonacci(n):\n",
    "    if n==0: return []\n",
    "    if n==1: return [0]\n",
    "    if n==2: return [0,1]\n",
    "    l = [0,1]\n",
    "    for i in range(n-2): l.append(l[-1]+l[-2])\n",
    "    return l\n",
    "\n",
    "if __name__ == '__main__':\n",
    "    n = int(input())\n",
    "    print(list(map(cube, fibonacci(n))))"
   ]
  },
  {
   "cell_type": "markdown",
   "metadata": {
    "id": "jaX6VuzYA1lb"
   },
   "source": [
    "## *Regex and Parsing challenges*"
   ]
  },
  {
   "cell_type": "markdown",
   "metadata": {
    "id": "hVcYL43BA1lc"
   },
   "source": [
    "### 1. Detect Floating Point Number"
   ]
  },
  {
   "cell_type": "code",
   "execution_count": null,
   "metadata": {
    "id": "vozqs7Y4A1lc"
   },
   "outputs": [],
   "source": [
    "import re\n",
    "\n",
    "T = int(input())\n",
    "for t in range(T): print(bool(re.match(\"^[+-]?\\d*[.]\\d+$\",input())))"
   ]
  },
  {
   "cell_type": "markdown",
   "metadata": {
    "id": "3zXj-qW6A1lc"
   },
   "source": [
    "### 2. Re.split()"
   ]
  },
  {
   "cell_type": "code",
   "execution_count": null,
   "metadata": {
    "id": "53JMgX8VA1lc"
   },
   "outputs": [],
   "source": [
    "regex_pattern = r\"[,.]\"\n",
    "\n",
    "import re\n",
    "print(\"\\n\".join(re.split(regex_pattern, input())))"
   ]
  },
  {
   "cell_type": "markdown",
   "metadata": {
    "id": "OuY-LA5aA1ld"
   },
   "source": [
    "### 3. Group(), Groups() & Groupdict()"
   ]
  },
  {
   "cell_type": "code",
   "execution_count": null,
   "metadata": {
    "id": "akiAVIKoA1ld"
   },
   "outputs": [],
   "source": [
    "import re\n",
    "\n",
    "m = re.search(r'([a-zA-Z0-9])\\1', input())\n",
    "print(m.group(1) if m else -1)"
   ]
  },
  {
   "cell_type": "markdown",
   "metadata": {
    "id": "V1wh4M9TA1ld"
   },
   "source": [
    "### 4. Re.findall() & Re.finditer()"
   ]
  },
  {
   "cell_type": "code",
   "execution_count": null,
   "metadata": {
    "id": "ytDgA1ruA1ld"
   },
   "outputs": [],
   "source": [
    "import re\n",
    "\n",
    "r = re.findall(\"(?<=[QWRTYPSDFGHJKLZXCVBNMqwrtypsdfghjklzxcvbnm])[aeiouAEIOU][aeiouAEIOU]+(?=[QWRTYPSDFGHJKLZXCVBNMqwrtypsdfghjklzxcvbnm])\", input())\n",
    "\n",
    "if len(r) > 0: \n",
    "    for el in r: print(el)\n",
    "else: print(-1)"
   ]
  },
  {
   "cell_type": "markdown",
   "metadata": {
    "id": "p1KHUJY2A1ld"
   },
   "source": [
    "### 5. Re.start() & Re.end()"
   ]
  },
  {
   "cell_type": "code",
   "execution_count": null,
   "metadata": {
    "id": "V2ppjwh0A1ld"
   },
   "outputs": [],
   "source": [
    "import re\n",
    "\n",
    "S = input()\n",
    "k = input()\n",
    "c = True\n",
    "i = 0\n",
    "\n",
    "while len(S)>0:\n",
    "    m = re.search(k,S)\n",
    "    if m: \n",
    "        c = False\n",
    "        print(\"({}, {})\".format(m.start()+i, m.end()+i-1))\n",
    "        S=S[m.start()+1:]\n",
    "        i+=m.start()+1\n",
    "    else:\n",
    "        break\n",
    "if c: print(\"(-1, -1)\")"
   ]
  },
  {
   "cell_type": "markdown",
   "metadata": {
    "id": "Y2eXE0KsA1le"
   },
   "source": [
    "### 6. Regex Substitution"
   ]
  },
  {
   "cell_type": "code",
   "execution_count": null,
   "metadata": {
    "id": "pugZaeVCA1le"
   },
   "outputs": [],
   "source": [
    "import re\n",
    "\n",
    "for t in range(int(input())):\n",
    "    line = input()\n",
    "    subl = re.sub(r'(?<=\\s)(&&)(?=\\s)',r\"and\",line)\n",
    "    print(re.sub(r'(?<=\\s)(\\|\\|)(?=\\s)',r\"or\",subl))"
   ]
  },
  {
   "cell_type": "markdown",
   "metadata": {
    "id": "wHX5E355A1le"
   },
   "source": [
    "### 7. Validating Roman Numerals"
   ]
  },
  {
   "cell_type": "code",
   "execution_count": null,
   "metadata": {
    "id": "ROqVVPRlA1le"
   },
   "outputs": [],
   "source": [
    "regex_pattern = r\"^M{0,3}(CM|CD|D?C{0,3})(XC|XL|L?X{0,3})(IX|IV|V?I{0,3})$\"\n",
    "\n",
    "import re\n",
    "print(str(bool(re.match(regex_pattern, input()))))"
   ]
  },
  {
   "cell_type": "markdown",
   "metadata": {
    "id": "xXKFRh6oA1le"
   },
   "source": [
    "### 8. Validating phone numbers"
   ]
  },
  {
   "cell_type": "code",
   "execution_count": null,
   "metadata": {
    "id": "thChv2fcA1le"
   },
   "outputs": [],
   "source": [
    "regex_pattern = r\"^[789][0-9]{9}$\"\n",
    "\n",
    "import re\n",
    "for i in range(int(input())):\n",
    "    print(\"YES\" if bool(re.match(regex_pattern, input())) else \"NO\")"
   ]
  },
  {
   "cell_type": "markdown",
   "metadata": {
    "id": "yhQNPvHVA1lf"
   },
   "source": [
    "### 9. Validating and Parsing Email Addresses"
   ]
  },
  {
   "cell_type": "code",
   "execution_count": null,
   "metadata": {
    "id": "FD7vtEGhA1lf"
   },
   "outputs": [],
   "source": [
    "import email.utils\n",
    "import re\n",
    "\n",
    "for i in range(int(input())):\n",
    "    \n",
    "    name, e = map(str,email.utils.parseaddr(input()))\n",
    "    \n",
    "    if re.search(r'^[a-zA-Z]+[a-zA-Z0-9_.-]+[@][a-zA-Z]+[.][a-zA-Z]{1,3}$', e):\n",
    "        print(email.utils.formataddr((name, e)))"
   ]
  },
  {
   "cell_type": "markdown",
   "metadata": {
    "id": "Ny0yS3iQA1lf"
   },
   "source": [
    "### 10. Hex Color Code"
   ]
  },
  {
   "cell_type": "code",
   "execution_count": null,
   "metadata": {
    "id": "UMm9klhFA1lf"
   },
   "outputs": [],
   "source": [
    "import re\n",
    "\n",
    "for i in range(int(input())):\n",
    "    for el in re.findall(r\"(?<=.)+#[0-9a-fA-F]{3,6}\", input()): print(el)"
   ]
  },
  {
   "cell_type": "markdown",
   "metadata": {
    "id": "AeFCxsOzA1lf"
   },
   "source": [
    "### 11. HTML Parser - Part 1"
   ]
  },
  {
   "cell_type": "code",
   "execution_count": null,
   "metadata": {
    "id": "SwziM1iHA1lf"
   },
   "outputs": [],
   "source": [
    "from html.parser import HTMLParser\n",
    "\n",
    "class MyHTMLParser(HTMLParser):\n",
    "    def handle_starttag(self, tag, attrs):\n",
    "        print(\"Start : {}\".format(tag))\n",
    "        for name,value in attrs: print(\"-> {} > {}\".format(name, value))\n",
    "\n",
    "    def handle_startendtag(self, tag, attrs):\n",
    "        print(\"Empty : {}\".format(tag))\n",
    "        for name,value in attrs: print(\"-> {} > {}\".format(name,value))\n",
    "\n",
    "    def handle_endtag(self, tag):\n",
    "        print(\"End   : {}\".format(tag))\n",
    "\n",
    "\n",
    "parser = MyHTMLParser()\n",
    "for i in range(int(input())): parser.feed(input())"
   ]
  },
  {
   "cell_type": "markdown",
   "metadata": {
    "id": "TszVLiKWA1lf"
   },
   "source": [
    "### 12. HTML Parser - Part 2"
   ]
  },
  {
   "cell_type": "code",
   "execution_count": null,
   "metadata": {
    "id": "kPCiNkFyA1lg"
   },
   "outputs": [],
   "source": [
    "from html.parser import HTMLParser\n",
    "\n",
    "class MyHTMLParser(HTMLParser):\n",
    "    def handle_data(self, data):\n",
    "        if len(data) > 1: print(\">>> Data\", data, sep=\"\\n\")\n",
    "  \n",
    "    def handle_comment(self, data):\n",
    "        if len(str(data).split('\\n')) > 1: print('>>> Multi-line Comment', data, sep=\"\\n\")  \n",
    "        else: print('>>> Single-line Comment', data, sep=\"\\n\")\n",
    "  \n",
    "html = \"\"       \n",
    "for i in range(int(input())):\n",
    "    html += input().rstrip()\n",
    "    html += '\\n'\n",
    "    \n",
    "parser = MyHTMLParser()\n",
    "parser.feed(html)\n",
    "parser.close()"
   ]
  },
  {
   "cell_type": "markdown",
   "metadata": {
    "id": "Uv-a0rxPA1lg"
   },
   "source": [
    "### 13. Detect HTML Tags, Attributes and Attribute Values"
   ]
  },
  {
   "cell_type": "code",
   "execution_count": null,
   "metadata": {
    "id": "TvA55zP-A1lg"
   },
   "outputs": [],
   "source": [
    "from html.parser import HTMLParser\n",
    "\n",
    "class MyHTMLParser(HTMLParser):\n",
    "    def handle_starttag(self,tag,a):\n",
    "        print(tag)\n",
    "        for el in a: print('->',el[0],'>',el[1])\n",
    "            \n",
    "parser=MyHTMLParser()\n",
    "for i in range(int(input())): parser.feed(input())"
   ]
  },
  {
   "cell_type": "markdown",
   "metadata": {
    "id": "tCf3Yzz6A1lg"
   },
   "source": [
    "### 14. Validating UID"
   ]
  },
  {
   "cell_type": "code",
   "execution_count": null,
   "metadata": {
    "id": "sV_aJ3FvA1lg"
   },
   "outputs": [],
   "source": [
    "for t in range(int(input())):\n",
    "    x = input()\n",
    "    print(\"Valid\" if x.isalnum() and len(x)==10 and len(set(x))==10 and len([i for i in x if i.isnumeric()])>= 3 and len([i for i in x if i.isupper()])>= 2 else \"Invalid\")"
   ]
  },
  {
   "cell_type": "markdown",
   "metadata": {
    "id": "R7UckrmeA1lg"
   },
   "source": [
    "### 15. Validating Credit Card Numbers"
   ]
  },
  {
   "cell_type": "code",
   "execution_count": null,
   "metadata": {
    "id": "JnKg9tXvA1lg"
   },
   "outputs": [],
   "source": [
    "import re\n",
    "\n",
    "N = int(input())\n",
    "\n",
    "for i in range(N):\n",
    "    cc = input()\n",
    "    print(\"Valid\" if re.match(r\"^[456].*$\",cc) and ((len(cc)==16 and cc.isdigit() and (not bool(re.match(r\"^[0-9]*(\\d)\\1{3}[0-9]*$\",cc)))) or (len(cc)==19 and bool(re.match(r\"^(\\d{4}\\-){3}\\d{4}$\", cc)) and (not bool(re.match(r\"^[0-9]*(\\d)\\1{3}[0-9]*$\",cc.replace('-','')))))) else \"Invalid\")"
   ]
  },
  {
   "cell_type": "markdown",
   "metadata": {
    "id": "mxvaEii9A1lh"
   },
   "source": [
    "### 16. Validating Postal Codes"
   ]
  },
  {
   "cell_type": "code",
   "execution_count": null,
   "metadata": {
    "id": "TKw1P52oA1lh"
   },
   "outputs": [],
   "source": [
    "regex_integer_in_range = r\"^[1-9]\\d{5}$\"\n",
    "regex_alternating_repetitive_digit_pair = r\"(?=(\\d).\\1)\"\n",
    "\n",
    "\n",
    "import re\n",
    "P = input()\n",
    "\n",
    "print (bool(re.match(regex_integer_in_range, P)) \n",
    "and len(re.findall(regex_alternating_repetitive_digit_pair, P)) < 2)"
   ]
  },
  {
   "cell_type": "markdown",
   "metadata": {
    "id": "hQrbLxP4A1lh"
   },
   "source": [
    "### 17. Matrix Script"
   ]
  },
  {
   "cell_type": "code",
   "execution_count": null,
   "metadata": {
    "id": "s2k97MLvA1lh"
   },
   "outputs": [],
   "source": [
    "import re\n",
    "\n",
    "first_multiple_input = input().rstrip().split()\n",
    "n = int(first_multiple_input[0])\n",
    "m = int(first_multiple_input[1])\n",
    "\n",
    "matrix = []\n",
    "\n",
    "for _ in range(n):\n",
    "    matrix_item = input()\n",
    "    matrix.append(matrix_item)\n",
    "\n",
    "string = \"\".join([matrix[i][j] for j in range(m) for i in range(n)])\n",
    "print(re.sub(r\"(?<=\\w)[!@#$%& ]+(?=\\s*\\w)\",\" \",string))"
   ]
  },
  {
   "cell_type": "markdown",
   "metadata": {
    "id": "YDCYljYuA4-m"
   },
   "source": [
    "## *XML*"
   ]
  },
  {
   "cell_type": "markdown",
   "metadata": {
    "id": "FhaEq2L3A4qd"
   },
   "source": [
    "### 1. XML 1 - Find the Score"
   ]
  },
  {
   "cell_type": "code",
   "execution_count": null,
   "metadata": {
    "id": "OFulWjbPA3q1"
   },
   "outputs": [],
   "source": [
    "import sys\n",
    "import xml.etree.ElementTree as etree\n",
    "\n",
    "def get_attr_number(node):\n",
    "    out = len(node.attrib) + sum([get_attr_number(el) for el in node])\n",
    "    return out\n",
    "\n",
    "if __name__ == '__main__':\n",
    "    sys.stdin.readline()\n",
    "    xml = sys.stdin.read()\n",
    "    tree = etree.ElementTree(etree.fromstring(xml))\n",
    "    root = tree.getroot()\n",
    "    print(get_attr_number(root))"
   ]
  },
  {
   "cell_type": "markdown",
   "metadata": {
    "id": "jyzOQF2TEzgB"
   },
   "source": [
    "### 2. XML2 - Find the Maximum Depth"
   ]
  },
  {
   "cell_type": "code",
   "execution_count": null,
   "metadata": {
    "id": "2yV6NSY1EyqM"
   },
   "outputs": [],
   "source": [
    "import xml.etree.ElementTree as etree\n",
    "\n",
    "maxdepth = 0\n",
    "def depth(elem, level):\n",
    "    global maxdepth\n",
    "    if level==maxdepth: maxdepth+=1\n",
    "    for el in elem: depth(el, level+1)\n",
    "\n",
    "if __name__ == '__main__':\n",
    "    n = int(input())\n",
    "    xml = \"\"\n",
    "    for i in range(n):\n",
    "        xml =  xml + input() + \"\\n\"\n",
    "    tree = etree.ElementTree(etree.fromstring(xml))\n",
    "    depth(tree.getroot(), -1)\n",
    "    print(maxdepth)"
   ]
  },
  {
   "cell_type": "markdown",
   "metadata": {
    "id": "-nc51-arE-Q6"
   },
   "source": [
    "## *Closures and Decorations*"
   ]
  },
  {
   "cell_type": "markdown",
   "metadata": {
    "id": "EmE9yhcqFpA5"
   },
   "source": [
    "### 1. Standardize Mobile Number Using Decorators"
   ]
  },
  {
   "cell_type": "code",
   "execution_count": null,
   "metadata": {
    "id": "Irlp_5qgJPSX"
   },
   "outputs": [],
   "source": [
    "def wrapper(f):\n",
    "    def fun(l):\n",
    "        f(map(lambda x: \"+91 \" + x[-10:-5] + \" \" + x[-5:],l))\n",
    "    return fun\n",
    "\n",
    "@wrapper\n",
    "def sort_phone(l):\n",
    "    print(*sorted(l), sep='\\n')\n",
    "\n",
    "if __name__ == '__main__':\n",
    "    l = [input() for _ in range(int(input()))]\n",
    "    sort_phone(l) "
   ]
  },
  {
   "cell_type": "markdown",
   "metadata": {
    "id": "5K_B_z1pJWxu"
   },
   "source": [
    "### 2. Decorators 2 - Name Directory"
   ]
  },
  {
   "cell_type": "code",
   "execution_count": null,
   "metadata": {
    "id": "6MoMcnhtJWSW"
   },
   "outputs": [],
   "source": [
    "import operator\n",
    "\n",
    "def person_lister(f):\n",
    "    def inner(people):\n",
    "        return map(f, sorted(people, key=lambda x: int(x[2])))\n",
    "    return inner\n",
    "\n",
    "@person_lister\n",
    "def name_format(person):\n",
    "    return (\"Mr. \" if person[3] == \"M\" else \"Ms. \") + person[0] + \" \" + person[1]\n",
    "\n",
    "if __name__ == '__main__':\n",
    "    people = [input().split() for i in range(int(input()))]\n",
    "    print(*name_format(people), sep='\\n')"
   ]
  },
  {
   "cell_type": "markdown",
   "metadata": {
    "id": "xtEhtAyQLPND"
   },
   "source": [
    "## *Numpy*"
   ]
  },
  {
   "cell_type": "markdown",
   "metadata": {
    "id": "ruXZlRG1LTUv"
   },
   "source": [
    "### 1. Arrays"
   ]
  },
  {
   "cell_type": "code",
   "execution_count": null,
   "metadata": {
    "id": "TNOW4S3SLN1-"
   },
   "outputs": [],
   "source": [
    "import numpy\n",
    "\n",
    "def arrays(arr):\n",
    "    return numpy.flip(numpy.array(arr,float))\n",
    "\n",
    "arr = input().strip().split(' ')\n",
    "result = arrays(arr)\n",
    "print(result)"
   ]
  },
  {
   "cell_type": "markdown",
   "metadata": {
    "id": "6arojmSYNHjZ"
   },
   "source": [
    "### 2. Shape and Reshape"
   ]
  },
  {
   "cell_type": "code",
   "execution_count": null,
   "metadata": {
    "id": "vgjDyBDMNMAc"
   },
   "outputs": [],
   "source": [
    "import numpy\n",
    "\n",
    "print(numpy.reshape(numpy.array(list(map(int,input().split()))),(3,3)))"
   ]
  },
  {
   "cell_type": "markdown",
   "metadata": {
    "id": "3vPSGBmaNr3N"
   },
   "source": [
    "### 3. Transpose and Flatten"
   ]
  },
  {
   "cell_type": "code",
   "execution_count": null,
   "metadata": {
    "id": "zjCTLxyHQMXi"
   },
   "outputs": [],
   "source": [
    "import numpy\n",
    "\n",
    "N, M = map(int, input().split())\n",
    "arr = numpy.array([list(map(int,input().split())) for x in range(N)])\n",
    "print(numpy.transpose(arr), arr.flatten(), sep=\"\\n\")"
   ]
  },
  {
   "cell_type": "markdown",
   "metadata": {
    "id": "RMHRcoPsQN_3"
   },
   "source": [
    "### 4. Concatenate"
   ]
  },
  {
   "cell_type": "code",
   "execution_count": null,
   "metadata": {
    "id": "RXVBvlZjQ6HT"
   },
   "outputs": [],
   "source": [
    "import numpy\n",
    "\n",
    "N, M, P = map(int, input().split())\n",
    "arr1 = [list(map(int,input().split())) for x in range(N)]\n",
    "arr2 = [list(map(int,input().split())) for x in range(M)]\n",
    "print(numpy.concatenate((arr1, arr2), axis = 0))"
   ]
  },
  {
   "cell_type": "markdown",
   "metadata": {
    "id": "zlxc-tgvQ6zu"
   },
   "source": [
    "### 5. Zeros and Ones"
   ]
  },
  {
   "cell_type": "code",
   "execution_count": null,
   "metadata": {
    "id": "suAqdImPRAT5"
   },
   "outputs": [],
   "source": [
    "import numpy\n",
    "\n",
    "shape = tuple(map(int, input().split()))\n",
    "print(numpy.zeros(shape, dtype = numpy.int64), numpy.ones(shape, dtype = numpy.int64), sep=\"\\n\")"
   ]
  },
  {
   "cell_type": "markdown",
   "metadata": {
    "id": "b_6rZHiER1Mh"
   },
   "source": [
    "### 6. Eye and Identity"
   ]
  },
  {
   "cell_type": "code",
   "execution_count": null,
   "metadata": {
    "id": "T4Fonh6OR3p6"
   },
   "outputs": [],
   "source": [
    "import numpy\n",
    "numpy.set_printoptions(legacy=\"1.13\")\n",
    "\n",
    "N, M = map(int, input().split())\n",
    "print(numpy.eye(N, M, k=0))"
   ]
  },
  {
   "cell_type": "markdown",
   "metadata": {
    "id": "MWIwJ5KUSdl0"
   },
   "source": [
    "### 7. Array Mathematics"
   ]
  },
  {
   "cell_type": "code",
   "execution_count": null,
   "metadata": {
    "id": "f5a9iPUFWg0d"
   },
   "outputs": [],
   "source": [
    "import numpy\n",
    "\n",
    "N, M = map(int, input().split())\n",
    "A = numpy.array([list(map(int, input().split())) for i in range(N)], dtype = numpy.int64)\n",
    "B = numpy.array([list(map(int, input().split())) for i in range(N)], dtype = numpy.int64)\n",
    "\n",
    "ops = [\"+\",\"-\",\"*\",\"//\",\"%\",\"**\"]\n",
    "for el in ops: print(eval(\"A{}B\".format(el)))"
   ]
  },
  {
   "cell_type": "markdown",
   "metadata": {
    "id": "FiQ_8I8-WgAP"
   },
   "source": [
    "### 8. Floor, Ceil and Rint"
   ]
  },
  {
   "cell_type": "code",
   "execution_count": null,
   "metadata": {
    "id": "bab7FRAnWpiO"
   },
   "outputs": [],
   "source": [
    "import numpy\n",
    "numpy.set_printoptions(legacy=\"1.13\")\n",
    "\n",
    "arr = numpy.array(list(map(float, input().split())))\n",
    "ops = [numpy.floor, numpy.ceil, numpy.rint]\n",
    "for el in ops: print(el(arr))"
   ]
  },
  {
   "cell_type": "markdown",
   "metadata": {
    "id": "rk3N1EHkYD7c"
   },
   "source": [
    "### 9. Sum and Prod"
   ]
  },
  {
   "cell_type": "code",
   "execution_count": null,
   "metadata": {
    "id": "g4kg2SAXYIqt"
   },
   "outputs": [],
   "source": [
    "import numpy\n",
    "\n",
    "N, M = map(int, input().split())\n",
    "arr = numpy.array([list(map(int,input().split())) for x in range(N)])\n",
    "print(numpy.prod(numpy.sum(arr, axis = 0)))"
   ]
  },
  {
   "cell_type": "markdown",
   "metadata": {
    "id": "F_G_lxksYw0g"
   },
   "source": [
    "### 10. Min and Max"
   ]
  },
  {
   "cell_type": "code",
   "execution_count": null,
   "metadata": {
    "id": "KSuD13FPY1X9"
   },
   "outputs": [],
   "source": [
    "import numpy\n",
    "\n",
    "N, M = map(int, input().split())\n",
    "arr = numpy.array([list(map(int,input().split())) for x in range(N)])\n",
    "print(numpy.max(numpy.min(arr, axis = 1)))"
   ]
  },
  {
   "cell_type": "markdown",
   "metadata": {
    "id": "TKaeLKfhZAOp"
   },
   "source": [
    "### 11. Mean, Var, and Std"
   ]
  },
  {
   "cell_type": "code",
   "execution_count": null,
   "metadata": {
    "id": "lp89qFAsZEa1"
   },
   "outputs": [],
   "source": [
    "import numpy\n",
    "\n",
    "N, M = map(int, input().split())\n",
    "arr = numpy.array([list(map(int,input().split())) for x in range(N)])\n",
    "print(numpy.mean(arr, axis=1), numpy.var(arr, axis=0), round(numpy.std(arr),11), sep=\"\\n\")"
   ]
  },
  {
   "cell_type": "markdown",
   "metadata": {
    "id": "3LCDuCL8Zjb9"
   },
   "source": [
    "### 12. Dot and Cross"
   ]
  },
  {
   "cell_type": "code",
   "execution_count": null,
   "metadata": {
    "id": "U9mLNFNMaY-K"
   },
   "outputs": [],
   "source": [
    "import numpy\n",
    "\n",
    "N = int(input())\n",
    "A = numpy.array([list(map(int, input().split())) for i in range(N)], dtype = numpy.int64)\n",
    "B = numpy.array([list(map(int, input().split())) for i in range(N)], dtype = numpy.int64)\n",
    "print(numpy.dot(A,B))"
   ]
  },
  {
   "cell_type": "markdown",
   "metadata": {
    "id": "_-QleFyZaYRA"
   },
   "source": [
    "### 13. Inner and Outer"
   ]
  },
  {
   "cell_type": "code",
   "execution_count": null,
   "metadata": {
    "id": "3DHKUcvsauI0"
   },
   "outputs": [],
   "source": [
    "import numpy\n",
    "\n",
    "A = numpy.array(list(map(int, input().split())), dtype = numpy.int64)\n",
    "B = numpy.array(list(map(int, input().split())), dtype = numpy.int64)\n",
    "print(numpy.inner(A,B), numpy.outer(A,B), sep=\"\\n\")"
   ]
  },
  {
   "cell_type": "markdown",
   "metadata": {
    "id": "DNjUzfc2att0"
   },
   "source": [
    "### 14. Polynomials"
   ]
  },
  {
   "cell_type": "code",
   "execution_count": null,
   "metadata": {
    "id": "RHcOgL2xbM_s"
   },
   "outputs": [],
   "source": [
    "import numpy\n",
    "\n",
    "coeffs = numpy.array(list(map(float, input().split())))\n",
    "x = float(input())\n",
    "\n",
    "print(numpy.polyval(coeffs,x))"
   ]
  },
  {
   "cell_type": "markdown",
   "metadata": {
    "id": "bgFjheHXbPT1"
   },
   "source": [
    "### 15. Linear Algebra"
   ]
  },
  {
   "cell_type": "code",
   "execution_count": null,
   "metadata": {
    "id": "jSJwA2PNatiS"
   },
   "outputs": [],
   "source": [
    "import numpy\n",
    "\n",
    "N = int(input())\n",
    "A = numpy.array([list(map(float, input().split())) for i in range(N)])\n",
    "\n",
    "print(round(numpy.linalg.det(A),2))"
   ]
  },
  {
   "cell_type": "markdown",
   "metadata": {
    "id": "Izfm4rjac7Qp"
   },
   "source": [
    "# Problem 2"
   ]
  },
  {
   "cell_type": "markdown",
   "metadata": {
    "id": "SWvU-UMIdCJb"
   },
   "source": [
    "### 1. Birthday Cake Candles"
   ]
  },
  {
   "cell_type": "code",
   "execution_count": null,
   "metadata": {
    "id": "sH4KLxhT-Csl"
   },
   "outputs": [],
   "source": [
    "import os\n",
    "\n",
    "def birthdayCakeCandles(candles):\n",
    "    return(candles.count(max(candles)))\n",
    "\n",
    "if __name__ == '__main__':\n",
    "    fptr = open(os.environ['OUTPUT_PATH'], 'w')\n",
    "    candles_count = int(input().strip())\n",
    "    candles = list(map(int, input().rstrip().split()))\n",
    "    result = birthdayCakeCandles(candles)\n",
    "    fptr.write(str(result) + '\\n')\n",
    "    fptr.close()"
   ]
  },
  {
   "cell_type": "markdown",
   "metadata": {
    "id": "uPUySXu8-Csm"
   },
   "source": [
    "### 2. Number Line Jumps"
   ]
  },
  {
   "cell_type": "code",
   "execution_count": null,
   "metadata": {
    "id": "CcxB6Zc--Csm"
   },
   "outputs": [],
   "source": [
    "import os\n",
    "\n",
    "def kangaroo(x1, v1, x2, v2):\n",
    "    if(v2>=v1): return(\"NO\")\n",
    "    return(\"YES\" if (x2-x1)%(v1-v2)==0 else \"NO\")\n",
    "\n",
    "if __name__ == '__main__':\n",
    "    fptr = open(os.environ['OUTPUT_PATH'], 'w')\n",
    "    first_multiple_input = input().rstrip().split()\n",
    "    x1 = int(first_multiple_input[0])\n",
    "    v1 = int(first_multiple_input[1])\n",
    "    x2 = int(first_multiple_input[2])\n",
    "    v2 = int(first_multiple_input[3])\n",
    "    result = kangaroo(x1, v1, x2, v2)\n",
    "    fptr.write(result + '\\n')\n",
    "    fptr.close()"
   ]
  },
  {
   "cell_type": "markdown",
   "metadata": {
    "id": "ovmnTOVb-Csm"
   },
   "source": [
    "### 3. Viral Advertising"
   ]
  },
  {
   "cell_type": "code",
   "execution_count": null,
   "metadata": {
    "id": "X1iteKHf-Csm"
   },
   "outputs": [],
   "source": [
    "import os\n",
    "\n",
    "def viralAdvertising(n):\n",
    "    liked = out = 2\n",
    "    for i in range(n-1):\n",
    "        liked = (liked*3)//2\n",
    "        out += liked\n",
    "    return out\n",
    "        \n",
    "if __name__ == '__main__':\n",
    "    fptr = open(os.environ['OUTPUT_PATH'], 'w')\n",
    "    n = int(input().strip())\n",
    "    result = viralAdvertising(n)\n",
    "    fptr.write(str(result) + '\\n')\n",
    "    fptr.close()"
   ]
  },
  {
   "cell_type": "markdown",
   "metadata": {
    "id": "UPfJvpYt-Csm"
   },
   "source": [
    "### 4. Recursive Digit Sum"
   ]
  },
  {
   "cell_type": "code",
   "execution_count": null,
   "metadata": {
    "id": "6y3tOel4-Csn"
   },
   "outputs": [],
   "source": [
    "import os\n",
    "\n",
    "def superDigit(n, k):\n",
    "    p = sum(list(map(int,list(n))))*k\n",
    "    if (p//10)==0: return(p)\n",
    "    return superDigit(str(p), 1)\n",
    "\n",
    "if __name__ == '__main__':\n",
    "    fptr = open(os.environ['OUTPUT_PATH'], 'w')\n",
    "    first_multiple_input = input().rstrip().split()\n",
    "    n = first_multiple_input[0]\n",
    "    k = int(first_multiple_input[1])\n",
    "    result = superDigit(n, k)\n",
    "    fptr.write(str(result) + '\\n')\n",
    "    fptr.close()"
   ]
  },
  {
   "cell_type": "markdown",
   "metadata": {
    "id": "iZoAYu8O-Csn"
   },
   "source": [
    "### 5. Insertion Sort - Part 1"
   ]
  },
  {
   "cell_type": "code",
   "execution_count": null,
   "metadata": {
    "id": "myiOgUgz-Csn"
   },
   "outputs": [],
   "source": [
    "def insertionSort1(n, arr):\n",
    "    k = arr[n-1]\n",
    "    c = False\n",
    "    for i in range(n-2,-1,-1):\n",
    "        if(arr[i]>k): arr[i+1]=arr[i]\n",
    "        else:\n",
    "            c = True\n",
    "            arr[i+1]=k\n",
    "        print(\" \".join(map(str, arr)))\n",
    "        if(c): break\n",
    "    if(not c):\n",
    "        arr[0]=k\n",
    "        print(\" \".join(map(str, arr)))\n",
    "\n",
    "if __name__ == '__main__':\n",
    "    n = int(input().strip())\n",
    "    arr = list(map(int, input().rstrip().split()))\n",
    "    insertionSort1(n, arr)"
   ]
  },
  {
   "cell_type": "markdown",
   "metadata": {
    "id": "Q5-DfDYu-Csn"
   },
   "source": [
    "### 6. Insertion Sort - Part 2"
   ]
  },
  {
   "cell_type": "code",
   "execution_count": null,
   "metadata": {
    "id": "spdTGeBx-Csn"
   },
   "outputs": [],
   "source": [
    "def insertionSort2(n, arr):\n",
    "    for i in range(1,n):\n",
    "        for j in range(i):\n",
    "            if arr[j]>arr[i]: arr[j], arr[i] = arr[i], arr[j]\n",
    "        print(\" \".join(map(str, arr)))\n",
    "        \n",
    "if __name__ == '__main__':\n",
    "    n = int(input().strip())\n",
    "    arr = list(map(int, input().rstrip().split()))\n",
    "    insertionSort2(n, arr)"
   ]
  }
 ],
 "metadata": {
  "colab": {
   "collapsed_sections": [],
   "provenance": []
  },
  "kernelspec": {
   "display_name": "Python 3",
   "language": "python",
   "name": "python3"
  },
  "language_info": {
   "codemirror_mode": {
    "name": "ipython",
    "version": 3
   },
   "file_extension": ".py",
   "mimetype": "text/x-python",
   "name": "python",
   "nbconvert_exporter": "python",
   "pygments_lexer": "ipython3",
   "version": "3.7.4"
  }
 },
 "nbformat": 4,
 "nbformat_minor": 1
}
